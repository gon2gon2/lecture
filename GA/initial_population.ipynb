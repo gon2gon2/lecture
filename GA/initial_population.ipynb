{
 "cells": [
  {
   "cell_type": "markdown",
   "metadata": {},
   "source": [
    "# Initial Population\n",
    "\n",
    "- population: chromosome으로 이루어진 집합, 배열, 리스트\n",
    "- chromosome: gene으로 이루어진 집합, 배열, 리스트\n",
    "- gene: 최소 단위"
   ]
  },
  {
   "cell_type": "markdown",
   "metadata": {},
   "source": [
    "## 문제 \n",
    "- gene의 개수가 7개인 chromosome이 10개인 초기 population을 만들어라~\n",
    "- gene의 범위는 1에서 100사이의 정수"
   ]
  },
  {
   "cell_type": "markdown",
   "metadata": {},
   "source": [
    "### 패키지\n",
    "- ppt 템플릿"
   ]
  },
  {
   "cell_type": "code",
   "execution_count": 3,
   "metadata": {},
   "outputs": [],
   "source": [
    "import numpy # numpy라는 템플릿을 불러옴"
   ]
  },
  {
   "cell_type": "code",
   "execution_count": 4,
   "metadata": {},
   "outputs": [],
   "source": [
    "gene = 7   # 1~ 100 사이\n",
    "pop = 10   # 10개, 10명"
   ]
  },
  {
   "cell_type": "markdown",
   "metadata": {},
   "source": [
    "## 순서\n",
    "1. 1~100사이의 난수를 발생시킨다  -- gene\n",
    "2. gene을 7개가 담긴 리스트를 만든다 -- chromosome\n",
    "3. chromosome 10개를 담은 리스트를 만든다 -- population"
   ]
  },
  {
   "cell_type": "code",
   "execution_count": 29,
   "metadata": {},
   "outputs": [
    {
     "data": {
      "text/plain": [
       "array([67, 22, 94, 82, 57, 38, 11])"
      ]
     },
     "execution_count": 29,
     "metadata": {},
     "output_type": "execute_result"
    }
   ],
   "source": [
    "# numpy random randint는 최소값, 최대값, 발생시킬 난수의 개수 size = N\n",
    "\n",
    "# 순서 1\n",
    "numpy.random.randint(1,100)\n",
    "\n",
    "# 순서 2\n",
    "numpy.random.randint(1,100, size = gene)\n",
    "\n",
    "# 순서 3\n",
    "numpy.random.randint(1,100, size = gene) # 이걸 10개 만들면 되겠구나!!"
   ]
  },
  {
   "cell_type": "markdown",
   "metadata": {},
   "source": [
    "## 방법 1"
   ]
  },
  {
   "cell_type": "code",
   "execution_count": 33,
   "metadata": {},
   "outputs": [],
   "source": [
    "initial = []\n",
    "for i in range(10):\n",
    "    initial.append(numpy.random.randint(1,100, size = gene))"
   ]
  },
  {
   "cell_type": "code",
   "execution_count": 34,
   "metadata": {
    "scrolled": true
   },
   "outputs": [
    {
     "data": {
      "text/plain": [
       "[array([75, 64, 72,  9, 51, 49, 27]),\n",
       " array([25, 39, 22, 57, 58,  1,  8]),\n",
       " array([57, 99, 82, 86,  3, 99, 15]),\n",
       " array([67, 57, 34, 65, 95, 97,  4]),\n",
       " array([72, 45, 84, 39, 70, 39, 28]),\n",
       " array([47, 32, 58, 29, 13, 77, 86]),\n",
       " array([52, 75, 99,  9,  3, 23, 22]),\n",
       " array([50, 30,  7, 80, 48, 29, 25]),\n",
       " array([24, 87, 65, 91, 22, 75, 39]),\n",
       " array([86, 62, 78, 39, 27, 14, 67])]"
      ]
     },
     "execution_count": 34,
     "metadata": {},
     "output_type": "execute_result"
    }
   ],
   "source": [
    "initial"
   ]
  },
  {
   "cell_type": "markdown",
   "metadata": {},
   "source": [
    "## 방법 2"
   ]
  },
  {
   "cell_type": "code",
   "execution_count": 45,
   "metadata": {},
   "outputs": [],
   "source": [
    "# 크로모좀이 사는 마을\n",
    "initial = []\n",
    "\n",
    "\n",
    "\n",
    "for i in range(10):\n",
    "\n",
    "    #  하나의 chromosome\n",
    "    ch = []\n",
    "    for j in range(7):\n",
    "        # 1. gene 만들기\n",
    "        ch.append(numpy.random.randint(1,100))   # chromosome에 gene 하나씩 담아줌\n",
    "        \n",
    "    initial.append(ch)"
   ]
  },
  {
   "cell_type": "code",
   "execution_count": 46,
   "metadata": {
    "scrolled": true
   },
   "outputs": [
    {
     "data": {
      "text/plain": [
       "[[86, 88, 77, 87, 47, 25, 59],\n",
       " [64, 89, 34, 42, 15, 68, 51],\n",
       " [46, 59, 33, 42, 21, 52, 81],\n",
       " [82, 34, 90, 36, 58, 73, 80],\n",
       " [76, 83, 20, 8, 24, 14, 57],\n",
       " [94, 99, 44, 98, 4, 18, 26],\n",
       " [58, 64, 92, 33, 30, 15, 70],\n",
       " [9, 85, 36, 58, 89, 83, 39],\n",
       " [3, 95, 21, 1, 52, 99, 5],\n",
       " [79, 73, 2, 2, 50, 27, 2]]"
      ]
     },
     "execution_count": 46,
     "metadata": {},
     "output_type": "execute_result"
    }
   ],
   "source": [
    "initial"
   ]
  },
  {
   "cell_type": "markdown",
   "metadata": {},
   "source": [
    "## 핵심원리\n",
    " *리스트의 리스트를 만든다!!!*"
   ]
  },
  {
   "cell_type": "code",
   "execution_count": 47,
   "metadata": {},
   "outputs": [],
   "source": [
    "def init_pop(gene, pop): # gene의 개수, chromosome의 수\n",
    "    \n",
    "    initial = []\n",
    "    for i in range(pop):\n",
    "        initial.append(numpy.random.randint(1,100, size = gene))\n",
    "    \n",
    "    return initial"
   ]
  },
  {
   "cell_type": "markdown",
   "metadata": {},
   "source": [
    "### gene의 개수가 3개인 chromosome이 30개 담겨있는 population 생성하라"
   ]
  },
  {
   "cell_type": "code",
   "execution_count": 48,
   "metadata": {},
   "outputs": [
    {
     "data": {
      "text/plain": [
       "[array([25, 67, 99]),\n",
       " array([80, 12, 16]),\n",
       " array([84, 59, 42]),\n",
       " array([43, 11, 76]),\n",
       " array([51, 85, 85]),\n",
       " array([43, 56, 17]),\n",
       " array([ 8, 12, 22]),\n",
       " array([75, 76, 34]),\n",
       " array([67, 41, 37]),\n",
       " array([52, 44, 94]),\n",
       " array([29, 20, 55]),\n",
       " array([78, 48, 46]),\n",
       " array([27, 92, 93]),\n",
       " array([33, 59, 77]),\n",
       " array([37, 74, 17]),\n",
       " array([69, 59, 51]),\n",
       " array([98, 76, 50]),\n",
       " array([86, 82, 11]),\n",
       " array([60, 10,  5]),\n",
       " array([96, 66, 26]),\n",
       " array([49, 98, 87]),\n",
       " array([66, 63, 80]),\n",
       " array([89, 50, 98]),\n",
       " array([16, 82, 28]),\n",
       " array([ 8,  7, 42]),\n",
       " array([35, 38, 79]),\n",
       " array([77, 69, 56]),\n",
       " array([75, 21, 91]),\n",
       " array([21, 48, 47]),\n",
       " array([37, 65,  1])]"
      ]
     },
     "execution_count": 48,
     "metadata": {},
     "output_type": "execute_result"
    }
   ],
   "source": [
    "init_pop(3, 30)"
   ]
  },
  {
   "cell_type": "code",
   "execution_count": null,
   "metadata": {},
   "outputs": [],
   "source": []
  },
  {
   "cell_type": "code",
   "execution_count": null,
   "metadata": {},
   "outputs": [],
   "source": []
  },
  {
   "cell_type": "code",
   "execution_count": null,
   "metadata": {},
   "outputs": [],
   "source": []
  },
  {
   "cell_type": "code",
   "execution_count": null,
   "metadata": {},
   "outputs": [],
   "source": []
  },
  {
   "cell_type": "code",
   "execution_count": null,
   "metadata": {},
   "outputs": [],
   "source": []
  },
  {
   "cell_type": "code",
   "execution_count": null,
   "metadata": {},
   "outputs": [],
   "source": []
  },
  {
   "cell_type": "code",
   "execution_count": null,
   "metadata": {},
   "outputs": [],
   "source": []
  },
  {
   "cell_type": "code",
   "execution_count": null,
   "metadata": {},
   "outputs": [],
   "source": []
  },
  {
   "cell_type": "code",
   "execution_count": null,
   "metadata": {},
   "outputs": [],
   "source": []
  },
  {
   "cell_type": "code",
   "execution_count": null,
   "metadata": {},
   "outputs": [],
   "source": []
  },
  {
   "cell_type": "code",
   "execution_count": 35,
   "metadata": {
    "scrolled": true
   },
   "outputs": [
    {
     "data": {
      "text/html": [
       "<div>\n",
       "<style scoped>\n",
       "    .dataframe tbody tr th:only-of-type {\n",
       "        vertical-align: middle;\n",
       "    }\n",
       "\n",
       "    .dataframe tbody tr th {\n",
       "        vertical-align: top;\n",
       "    }\n",
       "\n",
       "    .dataframe thead th {\n",
       "        text-align: right;\n",
       "    }\n",
       "</style>\n",
       "<table border=\"1\" class=\"dataframe\">\n",
       "  <thead>\n",
       "    <tr style=\"text-align: right;\">\n",
       "      <th></th>\n",
       "      <th>0</th>\n",
       "      <th>1</th>\n",
       "      <th>2</th>\n",
       "      <th>3</th>\n",
       "      <th>4</th>\n",
       "      <th>5</th>\n",
       "      <th>6</th>\n",
       "    </tr>\n",
       "  </thead>\n",
       "  <tbody>\n",
       "    <tr>\n",
       "      <th>0</th>\n",
       "      <td>75</td>\n",
       "      <td>64</td>\n",
       "      <td>72</td>\n",
       "      <td>9</td>\n",
       "      <td>51</td>\n",
       "      <td>49</td>\n",
       "      <td>27</td>\n",
       "    </tr>\n",
       "    <tr>\n",
       "      <th>1</th>\n",
       "      <td>25</td>\n",
       "      <td>39</td>\n",
       "      <td>22</td>\n",
       "      <td>57</td>\n",
       "      <td>58</td>\n",
       "      <td>1</td>\n",
       "      <td>8</td>\n",
       "    </tr>\n",
       "    <tr>\n",
       "      <th>2</th>\n",
       "      <td>57</td>\n",
       "      <td>99</td>\n",
       "      <td>82</td>\n",
       "      <td>86</td>\n",
       "      <td>3</td>\n",
       "      <td>99</td>\n",
       "      <td>15</td>\n",
       "    </tr>\n",
       "    <tr>\n",
       "      <th>3</th>\n",
       "      <td>67</td>\n",
       "      <td>57</td>\n",
       "      <td>34</td>\n",
       "      <td>65</td>\n",
       "      <td>95</td>\n",
       "      <td>97</td>\n",
       "      <td>4</td>\n",
       "    </tr>\n",
       "    <tr>\n",
       "      <th>4</th>\n",
       "      <td>72</td>\n",
       "      <td>45</td>\n",
       "      <td>84</td>\n",
       "      <td>39</td>\n",
       "      <td>70</td>\n",
       "      <td>39</td>\n",
       "      <td>28</td>\n",
       "    </tr>\n",
       "    <tr>\n",
       "      <th>5</th>\n",
       "      <td>47</td>\n",
       "      <td>32</td>\n",
       "      <td>58</td>\n",
       "      <td>29</td>\n",
       "      <td>13</td>\n",
       "      <td>77</td>\n",
       "      <td>86</td>\n",
       "    </tr>\n",
       "    <tr>\n",
       "      <th>6</th>\n",
       "      <td>52</td>\n",
       "      <td>75</td>\n",
       "      <td>99</td>\n",
       "      <td>9</td>\n",
       "      <td>3</td>\n",
       "      <td>23</td>\n",
       "      <td>22</td>\n",
       "    </tr>\n",
       "    <tr>\n",
       "      <th>7</th>\n",
       "      <td>50</td>\n",
       "      <td>30</td>\n",
       "      <td>7</td>\n",
       "      <td>80</td>\n",
       "      <td>48</td>\n",
       "      <td>29</td>\n",
       "      <td>25</td>\n",
       "    </tr>\n",
       "    <tr>\n",
       "      <th>8</th>\n",
       "      <td>24</td>\n",
       "      <td>87</td>\n",
       "      <td>65</td>\n",
       "      <td>91</td>\n",
       "      <td>22</td>\n",
       "      <td>75</td>\n",
       "      <td>39</td>\n",
       "    </tr>\n",
       "    <tr>\n",
       "      <th>9</th>\n",
       "      <td>86</td>\n",
       "      <td>62</td>\n",
       "      <td>78</td>\n",
       "      <td>39</td>\n",
       "      <td>27</td>\n",
       "      <td>14</td>\n",
       "      <td>67</td>\n",
       "    </tr>\n",
       "  </tbody>\n",
       "</table>\n",
       "</div>"
      ],
      "text/plain": [
       "    0   1   2   3   4   5   6\n",
       "0  75  64  72   9  51  49  27\n",
       "1  25  39  22  57  58   1   8\n",
       "2  57  99  82  86   3  99  15\n",
       "3  67  57  34  65  95  97   4\n",
       "4  72  45  84  39  70  39  28\n",
       "5  47  32  58  29  13  77  86\n",
       "6  52  75  99   9   3  23  22\n",
       "7  50  30   7  80  48  29  25\n",
       "8  24  87  65  91  22  75  39\n",
       "9  86  62  78  39  27  14  67"
      ]
     },
     "execution_count": 35,
     "metadata": {},
     "output_type": "execute_result"
    }
   ],
   "source": [
    "import pandas as pd\n",
    "pd.DataFrame(initial)"
   ]
  },
  {
   "cell_type": "code",
   "execution_count": null,
   "metadata": {},
   "outputs": [],
   "source": []
  },
  {
   "cell_type": "code",
   "execution_count": null,
   "metadata": {},
   "outputs": [],
   "source": []
  },
  {
   "cell_type": "code",
   "execution_count": null,
   "metadata": {},
   "outputs": [],
   "source": []
  },
  {
   "cell_type": "code",
   "execution_count": null,
   "metadata": {},
   "outputs": [],
   "source": []
  },
  {
   "cell_type": "code",
   "execution_count": null,
   "metadata": {},
   "outputs": [],
   "source": []
  },
  {
   "cell_type": "markdown",
   "metadata": {},
   "source": [
    "# Fitness Function"
   ]
  },
  {
   "cell_type": "code",
   "execution_count": null,
   "metadata": {},
   "outputs": [],
   "source": []
  },
  {
   "cell_type": "code",
   "execution_count": null,
   "metadata": {},
   "outputs": [],
   "source": []
  },
  {
   "cell_type": "code",
   "execution_count": null,
   "metadata": {},
   "outputs": [],
   "source": []
  },
  {
   "cell_type": "code",
   "execution_count": null,
   "metadata": {},
   "outputs": [],
   "source": []
  }
 ],
 "metadata": {
  "kernelspec": {
   "display_name": "Python 3",
   "language": "python",
   "name": "python3"
  },
  "language_info": {
   "codemirror_mode": {
    "name": "ipython",
    "version": 3
   },
   "file_extension": ".py",
   "mimetype": "text/x-python",
   "name": "python",
   "nbconvert_exporter": "python",
   "pygments_lexer": "ipython3",
   "version": "3.7.6"
  }
 },
 "nbformat": 4,
 "nbformat_minor": 4
}
