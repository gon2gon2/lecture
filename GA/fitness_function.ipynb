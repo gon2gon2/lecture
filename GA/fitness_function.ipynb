{
 "cells": [
  {
   "cell_type": "markdown",
   "metadata": {},
   "source": [
    "# Fitness function\n",
    "### 학습 목표\n",
    "- 사용자 정의 함수를 이용해 fitness function을 구한다\n",
    "- 사용자 정의 함수가 return으로 끝나는 이유?\n",
    "\n",
    "\n",
    "### fitness function\n",
    "- gene: 7개\n",
    "- chromosome: 10개\n",
    "- 각 원소(gene) -10의 제곱의 합"
   ]
  },
  {
   "cell_type": "code",
   "execution_count": 58,
   "metadata": {},
   "outputs": [],
   "source": [
    "gene=7\n",
    "population=10"
   ]
  },
  {
   "cell_type": "code",
   "execution_count": 26,
   "metadata": {},
   "outputs": [],
   "source": [
    "init = init_pop(gene, population)"
   ]
  },
  {
   "cell_type": "code",
   "execution_count": 40,
   "metadata": {},
   "outputs": [
    {
     "data": {
      "text/plain": [
       "[array([84, 41, 22, 38, 81, 61, 55]),\n",
       " array([69, 22, 49, 22, 93, 48, 95]),\n",
       " array([20, 23, 87, 45, 34, 31, 85]),\n",
       " array([94, 12, 73, 88, 97, 66, 27]),\n",
       " array([ 7, 46, 34, 21, 16, 60, 79]),\n",
       " array([25, 94, 51, 88,  3, 56, 56]),\n",
       " array([13,  6, 69, 85, 71, 48, 67]),\n",
       " array([31,  4, 11, 66, 78,  2, 87]),\n",
       " array([96, 88, 13, 44, 62, 41,  6]),\n",
       " array([70, 32, 38, 30, 75, 82, 80])]"
      ]
     },
     "execution_count": 40,
     "metadata": {},
     "output_type": "execute_result"
    }
   ],
   "source": [
    "init"
   ]
  },
  {
   "cell_type": "markdown",
   "metadata": {},
   "source": [
    "## chromosome 하나에 대한 fitness function 구현"
   ]
  },
  {
   "cell_type": "code",
   "execution_count": 87,
   "metadata": {},
   "outputs": [],
   "source": [
    "def fitness_function(chromosome):\n",
    "    hap = 0\n",
    "    for i in range(gene):\n",
    "        hap = hap + (chromosome[i]-10)**2\n",
    "    \n",
    "    print(hap)\n",
    "    return hap"
   ]
  },
  {
   "cell_type": "code",
   "execution_count": 65,
   "metadata": {},
   "outputs": [
    {
     "data": {
      "text/plain": [
       "array([69, 22, 49, 22, 93, 48, 95])"
      ]
     },
     "execution_count": 65,
     "metadata": {},
     "output_type": "execute_result"
    }
   ],
   "source": [
    "init[1]"
   ]
  },
  {
   "cell_type": "code",
   "execution_count": 88,
   "metadata": {},
   "outputs": [
    {
     "name": "stdout",
     "output_type": "stream",
     "text": [
      "20848\n"
     ]
    }
   ],
   "source": [
    "value = fitness_function(init[1])"
   ]
  },
  {
   "cell_type": "code",
   "execution_count": 89,
   "metadata": {},
   "outputs": [
    {
     "name": "stdout",
     "output_type": "stream",
     "text": [
      "20848\n"
     ]
    }
   ],
   "source": [
    "print(value)"
   ]
  },
  {
   "cell_type": "code",
   "execution_count": 91,
   "metadata": {},
   "outputs": [
    {
     "name": "stdout",
     "output_type": "stream",
     "text": [
      "17032\n",
      "20848\n",
      "14065\n",
      "28107\n",
      "9299\n",
      "19327\n",
      "17545\n",
      "14231\n",
      "18326\n",
      "19577\n"
     ]
    }
   ],
   "source": [
    "values = []\n",
    "for i in range(population):\n",
    "    value = fitness_function(init[i])\n",
    "    values.append(value)"
   ]
  },
  {
   "cell_type": "code",
   "execution_count": 92,
   "metadata": {},
   "outputs": [
    {
     "data": {
      "text/plain": [
       "[17032, 20848, 14065, 28107, 9299, 19327, 17545, 14231, 18326, 19577]"
      ]
     },
     "execution_count": 92,
     "metadata": {},
     "output_type": "execute_result"
    }
   ],
   "source": [
    "values"
   ]
  },
  {
   "cell_type": "code",
   "execution_count": 93,
   "metadata": {},
   "outputs": [
    {
     "data": {
      "text/plain": [
       "array([84, 41, 22, 38, 81, 61, 55])"
      ]
     },
     "execution_count": 93,
     "metadata": {},
     "output_type": "execute_result"
    }
   ],
   "source": [
    "init[0]"
   ]
  },
  {
   "cell_type": "code",
   "execution_count": 94,
   "metadata": {},
   "outputs": [
    {
     "data": {
      "text/plain": [
       "17032"
      ]
     },
     "execution_count": 94,
     "metadata": {},
     "output_type": "execute_result"
    }
   ],
   "source": [
    "values[0]"
   ]
  },
  {
   "cell_type": "code",
   "execution_count": null,
   "metadata": {},
   "outputs": [],
   "source": []
  },
  {
   "cell_type": "code",
   "execution_count": null,
   "metadata": {},
   "outputs": [],
   "source": []
  },
  {
   "cell_type": "code",
   "execution_count": null,
   "metadata": {},
   "outputs": [],
   "source": []
  },
  {
   "cell_type": "code",
   "execution_count": 2,
   "metadata": {},
   "outputs": [],
   "source": [
    "import numpy\n",
    "def init_pop(gene, pop): # gene의 개수, chromosome의 수\n",
    "    \n",
    "    initial = []\n",
    "    \n",
    "    \n",
    "    for i in range(pop):\n",
    "        \n",
    "        chromosome = numpy.random.randint(1,100, size = gene)\n",
    "        \n",
    "        \n",
    "        initial.append(chromosome)\n",
    "    \n",
    "    return initial"
   ]
  }
 ],
 "metadata": {
  "kernelspec": {
   "display_name": "Python 3",
   "language": "python",
   "name": "python3"
  },
  "language_info": {
   "codemirror_mode": {
    "name": "ipython",
    "version": 3
   },
   "file_extension": ".py",
   "mimetype": "text/x-python",
   "name": "python",
   "nbconvert_exporter": "python",
   "pygments_lexer": "ipython3",
   "version": "3.7.6"
  }
 },
 "nbformat": 4,
 "nbformat_minor": 4
}
